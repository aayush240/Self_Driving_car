{
 "cells": [
  {
   "cell_type": "markdown",
   "metadata": {},
   "source": [
    "### Question 1. Write a program to read contents of file and create and apply appropriate regular expressions to prepare following output and also stored it in dictionary with roll numbers as key and other details as values. "
   ]
  },
  {
   "cell_type": "code",
   "execution_count": 2,
   "metadata": {},
   "outputs": [],
   "source": [
    "import re"
   ]
  },
  {
   "cell_type": "code",
   "execution_count": 3,
   "metadata": {},
   "outputs": [
    {
     "data": {
      "text/plain": [
       "'N283 Divyansh Tiwari divyansh_tiwari@rocketmail.com 8890508659 70471118091 https://www.linkedin.com/in/dt03 3.79/4.00 N288 Akanksha Yadav akankshaayadav19@gmail.com 70471118096 3.90/4.00 N269 Rahul Sharma rsharma5500@gmail.com https://www.linkedin.com/in/rsharma5500/ 3.70/4.00'"
      ]
     },
     "execution_count": 3,
     "metadata": {},
     "output_type": "execute_result"
    }
   ],
   "source": [
    "file=open(\"VA3.txt\",\"r\")\n",
    "content=file.read()\n",
    "file.close()\n",
    "content"
   ]
  },
  {
   "cell_type": "code",
   "execution_count": 4,
   "metadata": {},
   "outputs": [
    {
     "name": "stdout",
     "output_type": "stream",
     "text": [
      "['N283', 'N288', 'N269']\n",
      "[' Divyansh Tiwari divyansh_tiwari@rocketmail.com 8890508659 70471118091 https://www.linkedin.com/in/dt03 3.79/4.00 ', ' Akanksha Yadav akankshaayadav19@gmail.com 70471118096 3.90/4.00 ', ' Rahul Sharma rsharma5500@gmail.com https://www.linkedin.com/in/rsharma5500/ 3.70/4.00']\n"
     ]
    }
   ],
   "source": [
    "Roll_nos = re.findall(\"N\\d\\d\\d\", content)\n",
    "print(Roll_nos)\n",
    "details = re.split(\"N\\d\\d\\d\", content)[1:]\n",
    "print(details)"
   ]
  },
  {
   "cell_type": "code",
   "execution_count": 5,
   "metadata": {},
   "outputs": [],
   "source": [
    "students={}\n",
    "for i,j in zip(Roll_nos,details):\n",
    "    email = re.findall('\\S+@\\S+', j)\n",
    "    SAP= re.findall('\\s\\d{11}\\s',j)\n",
    "    phone= re.findall('\\s\\d{10}\\s',j)\n",
    "    name= re.findall('\\s[A-Za-z]+\\s[A-Za-z]+\\s',j)\n",
    "    linkedin= re.findall(r\"(?i)\\b((?:https?://|www\\d{0,3}[.]|[a-z0-9.\\-]+[.][a-z]{2,4}/)(?:[^\\s()<>]+|\\(([^\\s()<>]+|(\\([^\\s()<>]+\\)))*\\))+(?:\\(([^\\s()<>]+|(\\([^\\s()<>]+\\)))*\\)|[^\\s`!()\\[\\]{};:'\\\".,<>?«»“”‘’]))\",j)\n",
    "    gpa=re.findall(r'\\d[.]\\d{2}[/]\\d[.]\\d{2}',j)\n",
    "    students[i]={\n",
    "        \"Name\":name[0],\n",
    "        \"SAP ID\":SAP[0] if SAP else \"Not Avaliable\",\n",
    "        \"Email\":email[0] if email else \"Not Avaliable\",\n",
    "        \"Contact\":phone[0] if phone else \"Not Avaliable\",\n",
    "        \"LinkedIn\":linkedin[0][0] if linkedin else \"Not Avaliable\",\n",
    "        \"GPA\": gpa[0]\n",
    "    }"
   ]
  },
  {
   "cell_type": "code",
   "execution_count": 6,
   "metadata": {},
   "outputs": [
    {
     "data": {
      "text/plain": [
       "{'N283': {'Name': ' Divyansh Tiwari ',\n",
       "  'SAP ID': ' 70471118091 ',\n",
       "  'Email': 'divyansh_tiwari@rocketmail.com',\n",
       "  'Contact': ' 8890508659 ',\n",
       "  'LinkedIn': 'https://www.linkedin.com/in/dt03',\n",
       "  'GPA': '3.79/4.00'},\n",
       " 'N288': {'Name': ' Akanksha Yadav ',\n",
       "  'SAP ID': ' 70471118096 ',\n",
       "  'Email': 'akankshaayadav19@gmail.com',\n",
       "  'Contact': 'Not Avaliable',\n",
       "  'LinkedIn': 'Not Avaliable',\n",
       "  'GPA': '3.90/4.00'},\n",
       " 'N269': {'Name': ' Rahul Sharma ',\n",
       "  'SAP ID': 'Not Avaliable',\n",
       "  'Email': 'rsharma5500@gmail.com',\n",
       "  'Contact': 'Not Avaliable',\n",
       "  'LinkedIn': 'https://www.linkedin.com/in/rsharma5500/',\n",
       "  'GPA': '3.70/4.00'}}"
      ]
     },
     "execution_count": 6,
     "metadata": {},
     "output_type": "execute_result"
    }
   ],
   "source": [
    "students"
   ]
  },
  {
   "cell_type": "code",
   "execution_count": 7,
   "metadata": {},
   "outputs": [
    {
     "data": {
      "text/plain": [
       "' Divyansh Tiwari '"
      ]
     },
     "execution_count": 7,
     "metadata": {},
     "output_type": "execute_result"
    }
   ],
   "source": [
    "students['N283']['Name']"
   ]
  },
  {
   "cell_type": "markdown",
   "metadata": {},
   "source": [
    "### Question 2. Design Bar chart to display ranking of students as poor, Above Average, Very Good and Excellent, with Name on X-axis. "
   ]
  },
  {
   "cell_type": "code",
   "execution_count": 8,
   "metadata": {},
   "outputs": [],
   "source": [
    "import pandas as pd"
   ]
  },
  {
   "cell_type": "code",
   "execution_count": 9,
   "metadata": {},
   "outputs": [
    {
     "data": {
      "text/html": [
       "<div>\n",
       "<style scoped>\n",
       "    .dataframe tbody tr th:only-of-type {\n",
       "        vertical-align: middle;\n",
       "    }\n",
       "\n",
       "    .dataframe tbody tr th {\n",
       "        vertical-align: top;\n",
       "    }\n",
       "\n",
       "    .dataframe thead th {\n",
       "        text-align: right;\n",
       "    }\n",
       "</style>\n",
       "<table border=\"1\" class=\"dataframe\">\n",
       "  <thead>\n",
       "    <tr style=\"text-align: right;\">\n",
       "      <th></th>\n",
       "      <th>Name</th>\n",
       "      <th>SAP ID</th>\n",
       "      <th>Email</th>\n",
       "      <th>Contact</th>\n",
       "      <th>LinkedIn</th>\n",
       "      <th>GPA</th>\n",
       "    </tr>\n",
       "  </thead>\n",
       "  <tbody>\n",
       "    <tr>\n",
       "      <th>N283</th>\n",
       "      <td>Divyansh Tiwari</td>\n",
       "      <td>70471118091</td>\n",
       "      <td>divyansh_tiwari@rocketmail.com</td>\n",
       "      <td>8890508659</td>\n",
       "      <td>https://www.linkedin.com/in/dt03</td>\n",
       "      <td>3.79/4.00</td>\n",
       "    </tr>\n",
       "    <tr>\n",
       "      <th>N288</th>\n",
       "      <td>Akanksha Yadav</td>\n",
       "      <td>70471118096</td>\n",
       "      <td>akankshaayadav19@gmail.com</td>\n",
       "      <td>Not Avaliable</td>\n",
       "      <td>Not Avaliable</td>\n",
       "      <td>3.90/4.00</td>\n",
       "    </tr>\n",
       "    <tr>\n",
       "      <th>N269</th>\n",
       "      <td>Rahul Sharma</td>\n",
       "      <td>Not Avaliable</td>\n",
       "      <td>rsharma5500@gmail.com</td>\n",
       "      <td>Not Avaliable</td>\n",
       "      <td>https://www.linkedin.com/in/rsharma5500/</td>\n",
       "      <td>3.70/4.00</td>\n",
       "    </tr>\n",
       "  </tbody>\n",
       "</table>\n",
       "</div>"
      ],
      "text/plain": [
       "                   Name         SAP ID                           Email  \\\n",
       "N283   Divyansh Tiwari    70471118091   divyansh_tiwari@rocketmail.com   \n",
       "N288    Akanksha Yadav    70471118096       akankshaayadav19@gmail.com   \n",
       "N269      Rahul Sharma   Not Avaliable           rsharma5500@gmail.com   \n",
       "\n",
       "            Contact                                  LinkedIn        GPA  \n",
       "N283    8890508659           https://www.linkedin.com/in/dt03  3.79/4.00  \n",
       "N288  Not Avaliable                             Not Avaliable  3.90/4.00  \n",
       "N269  Not Avaliable  https://www.linkedin.com/in/rsharma5500/  3.70/4.00  "
      ]
     },
     "execution_count": 9,
     "metadata": {},
     "output_type": "execute_result"
    }
   ],
   "source": [
    "df=pd.DataFrame.from_dict(students).T\n",
    "df.head()"
   ]
  },
  {
   "cell_type": "code",
   "execution_count": 10,
   "metadata": {},
   "outputs": [
    {
     "data": {
      "text/html": [
       "<div>\n",
       "<style scoped>\n",
       "    .dataframe tbody tr th:only-of-type {\n",
       "        vertical-align: middle;\n",
       "    }\n",
       "\n",
       "    .dataframe tbody tr th {\n",
       "        vertical-align: top;\n",
       "    }\n",
       "\n",
       "    .dataframe thead th {\n",
       "        text-align: right;\n",
       "    }\n",
       "</style>\n",
       "<table border=\"1\" class=\"dataframe\">\n",
       "  <thead>\n",
       "    <tr style=\"text-align: right;\">\n",
       "      <th></th>\n",
       "      <th>Name</th>\n",
       "      <th>SAP ID</th>\n",
       "      <th>Email</th>\n",
       "      <th>Contact</th>\n",
       "      <th>LinkedIn</th>\n",
       "      <th>GPA</th>\n",
       "      <th>Remarks</th>\n",
       "    </tr>\n",
       "  </thead>\n",
       "  <tbody>\n",
       "    <tr>\n",
       "      <th>N283</th>\n",
       "      <td>Divyansh Tiwari</td>\n",
       "      <td>70471118091</td>\n",
       "      <td>divyansh_tiwari@rocketmail.com</td>\n",
       "      <td>8890508659</td>\n",
       "      <td>https://www.linkedin.com/in/dt03</td>\n",
       "      <td>3.79/4.00</td>\n",
       "      <td>Excellent</td>\n",
       "    </tr>\n",
       "    <tr>\n",
       "      <th>N288</th>\n",
       "      <td>Akanksha Yadav</td>\n",
       "      <td>70471118096</td>\n",
       "      <td>akankshaayadav19@gmail.com</td>\n",
       "      <td>Not Avaliable</td>\n",
       "      <td>Not Avaliable</td>\n",
       "      <td>3.90/4.00</td>\n",
       "      <td>Excellent</td>\n",
       "    </tr>\n",
       "    <tr>\n",
       "      <th>N269</th>\n",
       "      <td>Rahul Sharma</td>\n",
       "      <td>Not Avaliable</td>\n",
       "      <td>rsharma5500@gmail.com</td>\n",
       "      <td>Not Avaliable</td>\n",
       "      <td>https://www.linkedin.com/in/rsharma5500/</td>\n",
       "      <td>3.70/4.00</td>\n",
       "      <td>Excellent</td>\n",
       "    </tr>\n",
       "  </tbody>\n",
       "</table>\n",
       "</div>"
      ],
      "text/plain": [
       "                   Name         SAP ID                           Email  \\\n",
       "N283   Divyansh Tiwari    70471118091   divyansh_tiwari@rocketmail.com   \n",
       "N288    Akanksha Yadav    70471118096       akankshaayadav19@gmail.com   \n",
       "N269      Rahul Sharma   Not Avaliable           rsharma5500@gmail.com   \n",
       "\n",
       "            Contact                                  LinkedIn        GPA  \\\n",
       "N283    8890508659           https://www.linkedin.com/in/dt03  3.79/4.00   \n",
       "N288  Not Avaliable                             Not Avaliable  3.90/4.00   \n",
       "N269  Not Avaliable  https://www.linkedin.com/in/rsharma5500/  3.70/4.00   \n",
       "\n",
       "        Remarks  \n",
       "N283  Excellent  \n",
       "N288  Excellent  \n",
       "N269  Excellent  "
      ]
     },
     "execution_count": 10,
     "metadata": {},
     "output_type": "execute_result"
    }
   ],
   "source": [
    "df['Remarks'] = [\"Poor\" if eval(i) < 0.5 else ( \"Above Average\" if eval(i) < 0.7 else ( \"Very Good\" if eval(i) < 0.9 else \"Excellent\" ) ) for i in df.GPA]\n",
    "df"
   ]
  },
  {
   "cell_type": "code",
   "execution_count": 11,
   "metadata": {},
   "outputs": [
    {
     "data": {
      "text/plain": [
       "N283    4\n",
       "N288    4\n",
       "N269    4\n",
       "Name: Equi, dtype: int64"
      ]
     },
     "execution_count": 11,
     "metadata": {},
     "output_type": "execute_result"
    }
   ],
   "source": [
    "df['Equi'] = [1 if i == \"Poor\" else ( 2 if i == \"Above Average\" else ( 3 if i == \"Very Good\" else 4 ) ) for i in df.Remarks]\n",
    "df.Equi"
   ]
  },
  {
   "cell_type": "code",
   "execution_count": 23,
   "metadata": {},
   "outputs": [
    {
     "data": {
      "image/png": "[encoded data removed]",
      "text/plain": [
       "<Figure size 432x288 with 1 Axes>"
      ]
     },
     "metadata": {
      "needs_background": "light"
     },
     "output_type": "display_data"
    }
   ],
   "source": [
    "import matplotlib.pyplot as plt\n",
    "\n",
    "fig, ax = plt.subplots()\n",
    "plt.bar(df[\"Name\"],df[\"Equi\"])\n",
    "\n",
    "rects = ax.patches\n",
    "\n",
    "for rect, label in zip(rects, df[\"Remarks\"]):\n",
    "    height = rect.get_height()\n",
    "    ax.text(rect.get_x() + rect.get_width() / 2, height , label,\n",
    "            ha='center', va='bottom')"
   ]
  },
  {
   "cell_type": "code",
   "execution_count": null,
   "metadata": {},
   "outputs": [],
   "source": []
  }
 ],
 "metadata": {
  "kernelspec": {
   "display_name": "Python 3",
   "language": "python",
   "name": "python3"
  },
  "language_info": {
   "codemirror_mode": {
    "name": "ipython",
    "version": 3
   },
   "file_extension": ".py",
   "mimetype": "text/x-python",
   "name": "python",
   "nbconvert_exporter": "python",
   "pygments_lexer": "ipython3",
   "version": "3.8.5"
  }
 },
 "nbformat": 4,
 "nbformat_minor": 4
}
